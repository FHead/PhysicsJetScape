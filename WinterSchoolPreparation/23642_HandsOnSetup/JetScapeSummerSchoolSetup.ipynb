{
 "cells": [
  {
   "cell_type": "markdown",
   "metadata": {},
   "source": [
    "# Model prediction maker"
   ]
  },
  {
   "cell_type": "markdown",
   "metadata": {},
   "source": [
    "Model setup is as follows: we have dijet asymmetry data prepared, where the asymmetry AJ is defined as the difference between the two jets divided by the sum. Specifically,\n",
    "\n",
    "$$A_{\\mathrm{j}} = \\frac{p_{\\mathrm{T, 1}} - p_{\\mathrm{T, 2}}}{p_{\\mathrm{T, 1}} + p_{\\mathrm{T, 2}}}$$\n",
    "\n",
    "We will construct a model to describe the energy loss observed in the dijet asymmetry.  For this model, we consider back-to-back dijets.  Each jet can lose energy, and the lost energy is parameterized as\n",
    "\n",
    "$$ \\Delta p_{\\mathrm{T}} / p_{\\mathrm{T}} \\sim A \\times Gaus(1, B)$$\n",
    "\n",
    "In addition to the energy loss contribution, we have extra \"apparent\" smearing on the AJ coming from the fact that we have other processes going on in the events (three jets etc).  It is parameterized as a Gaussian smearing on AJ with width C. So there are three total parameters: A, B, and C.\n",
    "\n",
    "The measurement is done in two bins of centrality.  One in central event, where (A, B, C) are all relevant, and another one in very peripheral event, where only the parameter (C) is relevant.\n",
    "\n",
    "The goal here in this notebook is to make the inputs needed for Bayesian inference to learn about A, B and C from the provided data"
   ]
  },
  {
   "cell_type": "code",
   "execution_count": 1,
   "metadata": {},
   "outputs": [],
   "source": [
    "import numpy as np\n",
    "import os\n",
    "\n",
    "Folder = 'input/AJExample/'\n",
    "\n",
    "if not os.path.exists(Folder):\n",
    "    os.mkdir(Folder)"
   ]
  },
  {
   "cell_type": "code",
   "execution_count": 2,
   "metadata": {},
   "outputs": [],
   "source": [
    "DataXMin        = 0.000\n",
    "DataXMax        = 1.000\n",
    "DataXBin        = 0.050\n",
    "\n",
    "DataNBin        = int((DataXMax - DataXMin) / DataXBin)\n",
    "\n",
    "# how many design points do you want to generate?\n",
    "NDesign         = 40\n",
    "\n",
    "# What is the upper parameter range (one each for A, B, C)?\n",
    "# The lower range for each parameter is 0 by construction.\n",
    "# Hint: start with a large-range guess!  Then we can come back and reduce range\n",
    "ParameterRanges = [1.0, 1.0, 0.5]"
   ]
  },
  {
   "cell_type": "markdown",
   "metadata": {},
   "source": [
    "## The \"prediction\" function\n",
    "\n",
    "Let's write a function, where we do the required smearing, make a histogram on the final AJ, and return the prediction"
   ]
  },
  {
   "cell_type": "code",
   "execution_count": 3,
   "metadata": {},
   "outputs": [],
   "source": [
    "def Predict(A, B, C, N = 100000):\n",
    "    print(\"Running prediction with\", A, B, C)\n",
    "    \n",
    "    Hist = np.zeros(DataNBin)\n",
    "    \n",
    "    for i in range(N):\n",
    "        # Jet 1 and jet 2 PT (J1 and J2) after quenching.\n",
    "        # Assuming initial energy is 100 GeV, and (delta PT / PT) ~ gaus(A, B), calculate the final energy\n",
    "        # Jet PT = 100 GeV * (?)\n",
    "        # Note that the initial energy cancels out in AJ\n",
    "        # Useful function: np.random.normal(1, 2) gives you a random sampling with gaussian mean 1 and sigma 2\n",
    "        J1 = 100 * (1 - A * np.random.normal(1, B))\n",
    "        J2 = 100 * (1 - A * np.random.normal(1, B))\n",
    "        # Calculate AJ from the PTs\n",
    "        AJ = (J1 - J2) / (J1 + J2)\n",
    "        # Adding extra gaussian smearing from parameter C\n",
    "        AJ = AJ + np.random.normal(0, C)\n",
    "        # AJ is defined to be leading - subleading -> positive!\n",
    "        AJ = np.abs(AJ)\n",
    "\n",
    "        # put things into bins\n",
    "        Bin = int((AJ - DataXMin) / DataXBin)\n",
    "        if Bin < 0:   # underflow\n",
    "            Bin = 0\n",
    "        if Bin >= DataNBin:   # overflow\n",
    "            continue\n",
    "            # Bin = DataNBin - 1\n",
    "        \n",
    "        Hist[Bin] = Hist[Bin] + 1\n",
    "        \n",
    "    return Hist / N"
   ]
  },
  {
   "cell_type": "markdown",
   "metadata": {},
   "source": [
    "### Test the prediction (cross check for yourself)"
   ]
  },
  {
   "cell_type": "code",
   "execution_count": 4,
   "metadata": {},
   "outputs": [
    {
     "name": "stdout",
     "output_type": "stream",
     "text": [
      "Running prediction with 0.5 0.25 0.1\n"
     ]
    },
    {
     "data": {
      "text/plain": [
       "array([1.9297e-01, 1.8067e-01, 1.5923e-01, 1.3340e-01, 1.0423e-01,\n",
       "       7.9260e-02, 5.4720e-02, 3.5980e-02, 2.3620e-02, 1.4830e-02,\n",
       "       8.9200e-03, 5.1400e-03, 2.8700e-03, 1.8300e-03, 9.6000e-04,\n",
       "       5.8000e-04, 3.1000e-04, 2.1000e-04, 9.0000e-05, 4.0000e-05])"
      ]
     },
     "execution_count": 4,
     "metadata": {},
     "output_type": "execute_result"
    }
   ],
   "source": [
    "# Test predicting one point - to see if the output makes sense or not\n",
    "# Once you are happy, we move on!\n",
    "example_prediction = Predict(0.5, 0.25, 0.1)\n",
    "example_prediction"
   ]
  },
  {
   "cell_type": "code",
   "execution_count": 5,
   "metadata": {},
   "outputs": [
    {
     "data": {
      "text/plain": [
       "[<matplotlib.lines.Line2D at 0x7fdd900687b8>]"
      ]
     },
     "execution_count": 5,
     "metadata": {},
     "output_type": "execute_result"
    },
    {
     "data": {
      "image/png": "[encoded data removed]",
      "text/plain": [
       "<Figure size 360x360 with 1 Axes>"
      ]
     },
     "metadata": {
      "needs_background": "light"
     },
     "output_type": "display_data"
    }
   ],
   "source": [
    "# Alternatively (or in addition), plot the AJ distribution for our single point\n",
    "import matplotlib.pyplot as plt\n",
    "fig, ax = plt.subplots(figsize=(5,5))\n",
    "ax.plot(np.arange(DataXMin, DataXMax, DataXBin) + (DataXBin / 2), example_prediction, marker=\"o\", linestyle=\"\")"
   ]
  },
  {
   "cell_type": "markdown",
   "metadata": {},
   "source": [
    "## Making the design points\n",
    "\n",
    "Let's start with a very simple random array :D\n",
    "\n",
    "In reality we would use something more complicated to distribute the points better, but let's start simple.  Fancy stuff is just a better way to achieve the same purpose."
   ]
  },
  {
   "cell_type": "code",
   "execution_count": 6,
   "metadata": {},
   "outputs": [],
   "source": [
    "Design = np.random.rand(NDesign, 3) * ParameterRanges"
   ]
  },
  {
   "cell_type": "markdown",
   "metadata": {},
   "source": [
    "## Preparing the model predictions\n",
    "\n",
    "Let's loop over the design points, and call the predict function we just wrote to make a big table!\n",
    "\n",
    "This step takes a while, like a few minutes.  Please be patient."
   ]
  },
  {
   "cell_type": "code",
   "execution_count": 7,
   "metadata": {},
   "outputs": [
    {
     "name": "stdout",
     "output_type": "stream",
     "text": [
      "Running prediction with 0.3003991144306818 0.11900364577462141 0.48473190155301804\n",
      "Running prediction with 0.91519577807384 0.8102652229691304 0.49402312950002947\n",
      "Running prediction with 0.03055138724603168 0.9339279197894532 0.1739345372291881\n",
      "Running prediction with 0.03712420030128405 0.25860960697676605 0.025486063085359556\n",
      "Running prediction with 0.06526919212267857 0.38756896118991213 0.41260706135694514\n",
      "Running prediction with 0.0049063542810871 0.3554027469054284 0.16989056660071267\n",
      "Running prediction with 0.6136501989734717 0.6581557646757035 0.35674411604462886\n",
      "Running prediction with 0.38475328866379876 0.09907440502466847 0.21838678103818748\n",
      "Running prediction with 0.660066459505741 0.096512699473152 0.08645400436118555\n",
      "Running prediction with 0.9552742257664444 0.3759291963606566 0.11200053642558694\n",
      "Running prediction with 0.7821605868194508 0.9499589548821153 0.3183915157087149\n",
      "Running prediction with 0.8594497814577617 0.10290199784338494 0.08003979101385172\n",
      "Running prediction with 0.0886911065604794 0.5097458240025791 0.1104711199276946\n",
      "Running prediction with 0.025520362996154455 0.14732511945610627 0.45938384716809805\n",
      "Running prediction with 0.08299287683469414 0.8568382084217872 0.2396556348029486\n",
      "Running prediction with 0.808984653547728 0.22382999300481454 0.16771514876919758\n",
      "Running prediction with 0.591508961732204 0.032121691539965025 0.30926603087543025\n",
      "Running prediction with 0.312269561720683 0.6189071152886143 0.49692367723503855\n",
      "Running prediction with 0.12125177726548986 0.37240650787506724 0.3745640410343276\n",
      "Running prediction with 0.8665572867074013 0.7887912009923936 0.3220843843293672\n",
      "Running prediction with 0.249149920116 0.4156539812198492 0.22924519874953092\n",
      "Running prediction with 0.30935663393566326 0.18597502160470059 0.2829669250728159\n",
      "Running prediction with 0.6407141970864265 0.23000003717506656 0.05200199419643997\n",
      "Running prediction with 0.7657542138790296 0.4839307784283451 0.038444174760596195\n",
      "Running prediction with 0.825462761355828 0.09078056111891353 0.045900749921717\n",
      "Running prediction with 0.864220865626457 0.48164768425423055 0.05328620556753677\n",
      "Running prediction with 0.5378169169194579 0.9625596360498393 0.062048659932877726\n",
      "Running prediction with 0.29082417720389786 0.9744952769362082 0.3973961268174502\n",
      "Running prediction with 0.7677020595158658 0.9984892736484388 0.41877058146811963\n",
      "Running prediction with 0.07460334603259378 0.3598556567634964 0.08807228440573872\n",
      "Running prediction with 0.6110677476581848 0.5479768274821905 0.21244118382051302\n",
      "Running prediction with 0.03417478100868321 0.02278911602177447 0.3089636274611355\n",
      "Running prediction with 0.3923338168484355 0.018688632869176325 0.14938614652182386\n",
      "Running prediction with 0.25126091845619514 0.5245010386717665 0.11169451398468311\n",
      "Running prediction with 0.8609262154713835 0.8762114204259198 0.05622286563190726\n",
      "Running prediction with 0.7296971833195244 0.4051772344078357 0.43210693402523187\n",
      "Running prediction with 0.08026870214366588 0.7046529445073477 0.046067737474053516\n",
      "Running prediction with 0.047231214823166945 0.47381656341225 0.35697417312886603\n",
      "Running prediction with 0.8912280866580227 0.8420344995179921 0.3713916475150423\n",
      "Running prediction with 0.412971882028241 0.8701348391371718 0.40390497865040154\n",
      "Running prediction with 0 0 0.48473190155301804\n",
      "Running prediction with 0 0 0.49402312950002947\n",
      "Running prediction with 0 0 0.1739345372291881\n",
      "Running prediction with 0 0 0.025486063085359556\n",
      "Running prediction with 0 0 0.41260706135694514\n",
      "Running prediction with 0 0 0.16989056660071267\n",
      "Running prediction with 0 0 0.35674411604462886\n",
      "Running prediction with 0 0 0.21838678103818748\n",
      "Running prediction with 0 0 0.08645400436118555\n",
      "Running prediction with 0 0 0.11200053642558694\n",
      "Running prediction with 0 0 0.3183915157087149\n",
      "Running prediction with 0 0 0.08003979101385172\n",
      "Running prediction with 0 0 0.1104711199276946\n",
      "Running prediction with 0 0 0.45938384716809805\n",
      "Running prediction with 0 0 0.2396556348029486\n",
      "Running prediction with 0 0 0.16771514876919758\n",
      "Running prediction with 0 0 0.30926603087543025\n",
      "Running prediction with 0 0 0.49692367723503855\n",
      "Running prediction with 0 0 0.3745640410343276\n",
      "Running prediction with 0 0 0.3220843843293672\n",
      "Running prediction with 0 0 0.22924519874953092\n",
      "Running prediction with 0 0 0.2829669250728159\n",
      "Running prediction with 0 0 0.05200199419643997\n",
      "Running prediction with 0 0 0.038444174760596195\n",
      "Running prediction with 0 0 0.045900749921717\n",
      "Running prediction with 0 0 0.05328620556753677\n",
      "Running prediction with 0 0 0.062048659932877726\n",
      "Running prediction with 0 0 0.3973961268174502\n",
      "Running prediction with 0 0 0.41877058146811963\n",
      "Running prediction with 0 0 0.08807228440573872\n",
      "Running prediction with 0 0 0.21244118382051302\n",
      "Running prediction with 0 0 0.3089636274611355\n",
      "Running prediction with 0 0 0.14938614652182386\n",
      "Running prediction with 0 0 0.11169451398468311\n",
      "Running prediction with 0 0 0.05622286563190726\n",
      "Running prediction with 0 0 0.43210693402523187\n",
      "Running prediction with 0 0 0.046067737474053516\n",
      "Running prediction with 0 0 0.35697417312886603\n",
      "Running prediction with 0 0 0.3713916475150423\n",
      "Running prediction with 0 0 0.40390497865040154\n"
     ]
    }
   ],
   "source": [
    "# Generate prediction for \"central\" data\n",
    "Y1 = [Predict(i[0], i[1], i[2]) for i in Design]\n",
    "# Generate prediction for \"peripheral\" data.  Note here A and B are irrelevant.  So we set them to 0\n",
    "Y2 = [Predict(0, 0, i[2]) for i in Design]"
   ]
  },
  {
   "cell_type": "markdown",
   "metadata": {},
   "source": [
    "## Write everything out"
   ]
  },
  {
   "cell_type": "code",
   "execution_count": 8,
   "metadata": {},
   "outputs": [],
   "source": [
    "with open(Folder + 'Prediction_Selection1.dat', 'w') as f:\n",
    "    f.write('# Version 1.0\\n')\n",
    "    f.write('# Data Data_Selection1.dat\\n')\n",
    "    f.write('# Design Design.dat\\n')\n",
    "    np.savetxt(f, np.transpose(Y1))"
   ]
  },
  {
   "cell_type": "code",
   "execution_count": 9,
   "metadata": {},
   "outputs": [],
   "source": [
    "with open(Folder + 'Prediction_Selection2.dat', 'w') as f:\n",
    "    f.write('# Version 1.0\\n')\n",
    "    f.write('# Data Data_Selection2.dat\\n')\n",
    "    f.write('# Design Design.dat\\n')\n",
    "    np.savetxt(f, np.transpose(Y2))"
   ]
  },
  {
   "cell_type": "code",
   "execution_count": 10,
   "metadata": {},
   "outputs": [],
   "source": [
    "with open(Folder + 'Design.dat', 'w') as f:\n",
    "    f.write('# Version 1.0\\n')\n",
    "    f.write('# Parameter A B C\\n')\n",
    "    np.savetxt(f, Design)"
   ]
  },
  {
   "cell_type": "markdown",
   "metadata": {},
   "source": [
    "## Making fake data"
   ]
  },
  {
   "cell_type": "code",
   "execution_count": 11,
   "metadata": {},
   "outputs": [
    {
     "name": "stdout",
     "output_type": "stream",
     "text": [
      "Running prediction with 0.5 0.25 0.1\n",
      "Running prediction with 0 0 0.1\n"
     ]
    }
   ],
   "source": [
    "Truth = [0.50, 0.25, 0.10]\n",
    "\n",
    "DataY1 = Predict(Truth[0], Truth[1], Truth[2], N = 100000)\n",
    "DataY2 = Predict(0, 0, Truth[2], N = 100000)"
   ]
  },
  {
   "cell_type": "code",
   "execution_count": 12,
   "metadata": {},
   "outputs": [],
   "source": [
    "XMin = np.array(range(0, DataNBin)) * DataXBin\n",
    "XMax = np.array(range(1, DataNBin + 1)) * DataXBin\n",
    "\n",
    "Stat = 0.001\n",
    "Sys = 0.010\n",
    "\n",
    "Data1 = np.zeros((DataNBin, 7))\n",
    "Data2 = np.zeros((DataNBin, 7))\n",
    "\n",
    "Data1[:,0] = XMin\n",
    "Data1[:,1] = XMax\n",
    "Data1[:,2] = DataY1\n",
    "Data1[:,3] = Stat\n",
    "Data1[:,4] = Stat\n",
    "Data1[:,5] = Sys\n",
    "Data1[:,6] = Sys\n",
    "\n",
    "Data2[:,0] = XMin\n",
    "Data2[:,1] = XMax\n",
    "Data2[:,2] = DataY2\n",
    "Data2[:,3] = Stat\n",
    "Data2[:,4] = Stat\n",
    "Data2[:,5] = Sys\n",
    "Data2[:,6] = Sys"
   ]
  },
  {
   "cell_type": "code",
   "execution_count": 13,
   "metadata": {},
   "outputs": [],
   "source": [
    "with open(Folder + 'Data_Selection1.dat', 'w') as f:\n",
    "    f.write('# Version 1.0\\n')\n",
    "    f.write('# DOI None\\n')\n",
    "    f.write('# Source None\\n')\n",
    "    f.write('# Experiment JetScape\\n')\n",
    "    f.write('# System PbPb5020\\n')\n",
    "    f.write('# Centrality 0to10\\n')\n",
    "    f.write('# XY AJ DNDAJ\\n')\n",
    "    f.write('# Label xmin xmax y stat,low stat,high sys,low sys,high\\n')\n",
    "    np.savetxt(f, Data1)\n",
    "    \n",
    "with open(Folder + 'Data_Selection2.dat', 'w') as f:\n",
    "    f.write('# Version 1.0\\n')\n",
    "    f.write('# DOI None\\n')\n",
    "    f.write('# Source None\\n')\n",
    "    f.write('# Experiment JetScape\\n')\n",
    "    f.write('# System PbPb5020\\n')\n",
    "    f.write('# Centrality 70to90\\n')\n",
    "    f.write('# XY AJ DNDAJ\\n')\n",
    "    f.write('# Label xmin xmax y stat,low stat,high sys,low sys,high\\n')\n",
    "    np.savetxt(f, Data2)"
   ]
  },
  {
   "cell_type": "code",
   "execution_count": null,
   "metadata": {},
   "outputs": [],
   "source": []
  },
  {
   "cell_type": "code",
   "execution_count": null,
   "metadata": {},
   "outputs": [],
   "source": []
  }
 ],
 "metadata": {
  "kernelspec": {
   "display_name": "Python 3",
   "language": "python",
   "name": "python3"
  },
  "language_info": {
   "codemirror_mode": {
    "name": "ipython",
    "version": 3
   },
   "file_extension": ".py",
   "mimetype": "text/x-python",
   "name": "python",
   "nbconvert_exporter": "python",
   "pygments_lexer": "ipython3",
   "version": "3.6.9"
  }
 },
 "nbformat": 4,
 "nbformat_minor": 4
}
