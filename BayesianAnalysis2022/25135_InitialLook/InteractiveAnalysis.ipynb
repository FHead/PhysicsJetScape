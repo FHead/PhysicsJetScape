{
 "cells": [
  {
   "cell_type": "markdown",
   "metadata": {},
   "source": [
    "# Set up example code"
   ]
  },
  {
   "cell_type": "markdown",
   "metadata": {},
   "source": [
    "## Step 1: prepare input pickle file"
   ]
  },
  {
   "cell_type": "markdown",
   "metadata": {},
   "source": [
    "### Load stuff from text files"
   ]
  },
  {
   "cell_type": "code",
   "execution_count": 1,
   "metadata": {},
   "outputs": [
    {
     "name": "stdout",
     "output_type": "stream",
     "text": [
      "Design shape: (75, 6)\r\n"
     ]
    }
   ],
   "source": [
    "!python3 SetupAnalysis.py yaml/Exponential20221007.yaml"
   ]
  },
  {
   "cell_type": "code",
   "execution_count": 2,
   "metadata": {},
   "outputs": [],
   "source": [
    "!python3 MakeDesignObservablePlot.py\n",
    "!python3 MakeDesignSpacePlot.py"
   ]
  },
  {
   "cell_type": "markdown",
   "metadata": {},
   "source": [
    "### Optional: clean past files"
   ]
  },
  {
   "cell_type": "code",
   "execution_count": 3,
   "metadata": {},
   "outputs": [],
   "source": [
    "!python3 CleanPastFiles.py"
   ]
  },
  {
   "cell_type": "markdown",
   "metadata": {},
   "source": [
    "## Step 2: run emulator"
   ]
  },
  {
   "cell_type": "code",
   "execution_count": 4,
   "metadata": {},
   "outputs": [
    {
     "name": "stdout",
     "output_type": "stream",
     "text": [
      "[INFO][emulator] training emulator for system HeavyIon (8 PC, 10 restarts, alpha=0.00, kernel=MaternNoise, noise=-1.000000)\n",
      "[0.4        9.         7.60090246 7.60090246 1.5        7.60090246]\n",
      "/usr/local/lib/python3.6/site-packages/sklearn/gaussian_process/kernels.py:418: ConvergenceWarning: The optimal value found for dimension 3 of parameter k1__length_scale is close to the specified upper bound 760.0902459542082. Increasing the bound and calling fit again may find a better value.\n",
      "  ConvergenceWarning)\n",
      "/usr/local/lib/python3.6/site-packages/sklearn/gaussian_process/kernels.py:418: ConvergenceWarning: The optimal value found for dimension 2 of parameter k1__length_scale is close to the specified upper bound 760.0902459542082. Increasing the bound and calling fit again may find a better value.\n",
      "  ConvergenceWarning)\n",
      "/usr/local/lib/python3.6/site-packages/sklearn/gaussian_process/kernels.py:418: ConvergenceWarning: The optimal value found for dimension 2 of parameter k1__length_scale is close to the specified upper bound 760.0902459542082. Increasing the bound and calling fit again may find a better value.\n",
      "  ConvergenceWarning)\n",
      "/usr/local/lib/python3.6/site-packages/sklearn/gaussian_process/kernels.py:418: ConvergenceWarning: The optimal value found for dimension 5 of parameter k1__length_scale is close to the specified upper bound 760.0902459542082. Increasing the bound and calling fit again may find a better value.\n",
      "  ConvergenceWarning)\n",
      "/usr/local/lib/python3.6/site-packages/sklearn/gaussian_process/kernels.py:418: ConvergenceWarning: The optimal value found for dimension 4 of parameter k1__length_scale is close to the specified upper bound 150.0. Increasing the bound and calling fit again may find a better value.\n",
      "  ConvergenceWarning)\n",
      "/usr/local/lib/python3.6/site-packages/sklearn/gaussian_process/kernels.py:418: ConvergenceWarning: The optimal value found for dimension 2 of parameter k1__length_scale is close to the specified upper bound 760.0902459542082. Increasing the bound and calling fit again may find a better value.\n",
      "  ConvergenceWarning)\n",
      "/usr/local/lib/python3.6/site-packages/sklearn/gaussian_process/kernels.py:409: ConvergenceWarning: The optimal value found for dimension 0 of parameter k1__length_scale is close to the specified lower bound 0.004. Decreasing the bound and calling fit again may find a better value.\n",
      "  ConvergenceWarning)\n",
      "/usr/local/lib/python3.6/site-packages/sklearn/gaussian_process/kernels.py:409: ConvergenceWarning: The optimal value found for dimension 0 of parameter k2__noise_level is close to the specified lower bound 1e-08. Decreasing the bound and calling fit again may find a better value.\n",
      "  ConvergenceWarning)\n",
      "/usr/local/lib/python3.6/site-packages/sklearn/gaussian_process/kernels.py:418: ConvergenceWarning: The optimal value found for dimension 0 of parameter k1__length_scale is close to the specified upper bound 40.0. Increasing the bound and calling fit again may find a better value.\n",
      "  ConvergenceWarning)\n",
      "/usr/local/lib/python3.6/site-packages/sklearn/gaussian_process/kernels.py:418: ConvergenceWarning: The optimal value found for dimension 1 of parameter k1__length_scale is close to the specified upper bound 900.0. Increasing the bound and calling fit again may find a better value.\n",
      "  ConvergenceWarning)\n",
      "/usr/local/lib/python3.6/site-packages/sklearn/gaussian_process/kernels.py:409: ConvergenceWarning: The optimal value found for dimension 2 of parameter k1__length_scale is close to the specified lower bound 0.07600902459542082. Decreasing the bound and calling fit again may find a better value.\n",
      "  ConvergenceWarning)\n",
      "/usr/local/lib/python3.6/site-packages/sklearn/gaussian_process/kernels.py:418: ConvergenceWarning: The optimal value found for dimension 5 of parameter k1__length_scale is close to the specified upper bound 760.0902459542082. Increasing the bound and calling fit again may find a better value.\n",
      "  ConvergenceWarning)\n",
      "/usr/local/lib/python3.6/site-packages/sklearn/gaussian_process/kernels.py:409: ConvergenceWarning: The optimal value found for dimension 0 of parameter k1__length_scale is close to the specified lower bound 0.004. Decreasing the bound and calling fit again may find a better value.\n",
      "  ConvergenceWarning)\n",
      "/usr/local/lib/python3.6/site-packages/sklearn/gaussian_process/kernels.py:418: ConvergenceWarning: The optimal value found for dimension 1 of parameter k1__length_scale is close to the specified upper bound 900.0. Increasing the bound and calling fit again may find a better value.\n",
      "  ConvergenceWarning)\n",
      "/usr/local/lib/python3.6/site-packages/sklearn/gaussian_process/kernels.py:418: ConvergenceWarning: The optimal value found for dimension 2 of parameter k1__length_scale is close to the specified upper bound 760.0902459542082. Increasing the bound and calling fit again may find a better value.\n",
      "  ConvergenceWarning)\n",
      "/usr/local/lib/python3.6/site-packages/sklearn/gaussian_process/kernels.py:418: ConvergenceWarning: The optimal value found for dimension 5 of parameter k1__length_scale is close to the specified upper bound 760.0902459542082. Increasing the bound and calling fit again may find a better value.\n",
      "  ConvergenceWarning)\n",
      "[INFO][emulator] writing cache file cache/emulator/HeavyIon.pkl\n",
      "HeavyIon\n",
      "8 PCs explain 0.89256 of variance\n",
      "GP 0: 0.69800 of variance, LML = 29.862, kernel: Matern(length_scale=[0.277, 10.5, 336, 760, 3.8, 142], nu=2.5) + WhiteKernel(noise_level=0.00752)\n",
      "GP 1: 0.09632 of variance, LML = -101.58, kernel: Matern(length_scale=[0.235, 1.86, 760, 585, 0.321, 0.219], nu=2.5) + WhiteKernel(noise_level=1.8e-08)\n",
      "GP 2: 0.02728 of variance, LML = -101.4, kernel: Matern(length_scale=[0.153, 4.51, 760, 0.822, 0.0785, 760], nu=2.5) + WhiteKernel(noise_level=4.67e-08)\n",
      "GP 3: 0.02528 of variance, LML = -100.64, kernel: Matern(length_scale=[0.071, 7.51, 0.974, 1.56, 150, 4.38], nu=2.5) + WhiteKernel(noise_level=3.16e-07)\n",
      "GP 4: 0.01479 of variance, LML = -85.199, kernel: Matern(length_scale=[0.194, 5.33, 760, 4.62, 1.5, 13.8], nu=2.5) + WhiteKernel(noise_level=0.261)\n",
      "GP 5: 0.01292 of variance, LML = -102.84, kernel: Matern(length_scale=[0.004, 8.35, 182, 0.168, 129, 473], nu=2.5) + WhiteKernel(noise_level=1e-08)\n",
      "GP 6: 0.00949 of variance, LML = -98.835, kernel: Matern(length_scale=[40, 900, 0.076, 2.41, 2.96, 760], nu=2.5) + WhiteKernel(noise_level=1.33e-08)\n",
      "GP 7: 0.00850 of variance, LML = -102.54, kernel: Matern(length_scale=[0.004, 900, 760, 0.992, 2.68, 760], nu=2.5) + WhiteKernel(noise_level=2.96e-08)\n"
     ]
    }
   ],
   "source": [
    "!python3 RunEmulator.py"
   ]
  },
  {
   "cell_type": "markdown",
   "metadata": {},
   "source": [
    "## Step 3: MCMC sampling"
   ]
  },
  {
   "cell_type": "code",
   "execution_count": 5,
   "metadata": {},
   "outputs": [
    {
     "name": "stdout",
     "output_type": "stream",
     "text": [
      "{'walker': 50, 'burn': 1000, 'step': 500}\n",
      "[INFO][mcmc] no existing chain found, starting initial burn-in\n",
      "[INFO][mcmc] step 50: acceptance fraction: mean 0.3168, std 0.1011, min 0.0400, max 0.5000\n",
      "[INFO][mcmc] step 100: acceptance fraction: mean 0.3000, std 0.0829, min 0.0500, max 0.4700\n",
      "[INFO][mcmc] step 150: acceptance fraction: mean 0.2865, std 0.0690, min 0.0533, max 0.4267\n",
      "[INFO][mcmc] step 200: acceptance fraction: mean 0.2808, std 0.0587, min 0.1050, max 0.3950\n",
      "[INFO][mcmc] step 250: acceptance fraction: mean 0.2760, std 0.0515, min 0.1200, max 0.3960\n",
      "[INFO][mcmc] step 300: acceptance fraction: mean 0.2745, std 0.0481, min 0.1533, max 0.3933\n",
      "[INFO][mcmc] step 350: acceptance fraction: mean 0.2714, std 0.0460, min 0.1600, max 0.3857\n",
      "[INFO][mcmc] step 400: acceptance fraction: mean 0.2699, std 0.0400, min 0.1625, max 0.3600\n",
      "[INFO][mcmc] step 450: acceptance fraction: mean 0.2696, std 0.0378, min 0.1822, max 0.3578\n",
      "[INFO][mcmc] step 500: acceptance fraction: mean 0.2695, std 0.0356, min 0.1980, max 0.3620\n",
      "[INFO][mcmc] resampling walker positions\n",
      "[INFO][mcmc] step 50: acceptance fraction: mean 0.2760, std 0.0972, min 0.0400, max 0.4800\n",
      "[INFO][mcmc] step 100: acceptance fraction: mean 0.2750, std 0.0765, min 0.0900, max 0.4500\n",
      "[INFO][mcmc] step 150: acceptance fraction: mean 0.2704, std 0.0629, min 0.0933, max 0.4133\n",
      "[INFO][mcmc] step 200: acceptance fraction: mean 0.2707, std 0.0523, min 0.1050, max 0.3850\n",
      "[INFO][mcmc] step 250: acceptance fraction: mean 0.2712, std 0.0490, min 0.1280, max 0.3600\n",
      "[INFO][mcmc] step 300: acceptance fraction: mean 0.2678, std 0.0477, min 0.1400, max 0.3700\n",
      "[INFO][mcmc] step 350: acceptance fraction: mean 0.2672, std 0.0468, min 0.1514, max 0.3486\n",
      "[INFO][mcmc] step 400: acceptance fraction: mean 0.2654, std 0.0447, min 0.1450, max 0.3575\n",
      "[INFO][mcmc] step 450: acceptance fraction: mean 0.2652, std 0.0414, min 0.1711, max 0.3489\n",
      "[INFO][mcmc] step 500: acceptance fraction: mean 0.2658, std 0.0401, min 0.1760, max 0.3440\n",
      "[INFO][mcmc] burn-in complete, starting production\n",
      "[INFO][mcmc] step 50: acceptance fraction: mean 0.2500, std 0.0872, min 0.0400, max 0.4200\n",
      "[INFO][mcmc] step 100: acceptance fraction: mean 0.2452, std 0.0695, min 0.1000, max 0.3600\n",
      "[INFO][mcmc] step 150: acceptance fraction: mean 0.2427, std 0.0671, min 0.0733, max 0.3867\n",
      "[INFO][mcmc] step 200: acceptance fraction: mean 0.2452, std 0.0678, min 0.0750, max 0.3950\n",
      "[INFO][mcmc] step 250: acceptance fraction: mean 0.2463, std 0.0590, min 0.0760, max 0.3320\n",
      "[INFO][mcmc] step 300: acceptance fraction: mean 0.2497, std 0.0552, min 0.0933, max 0.3600\n",
      "[INFO][mcmc] step 350: acceptance fraction: mean 0.2507, std 0.0530, min 0.1229, max 0.3857\n",
      "[INFO][mcmc] step 400: acceptance fraction: mean 0.2524, std 0.0488, min 0.1250, max 0.3625\n",
      "[INFO][mcmc] step 450: acceptance fraction: mean 0.2516, std 0.0464, min 0.1333, max 0.3600\n",
      "[INFO][mcmc] step 500: acceptance fraction: mean 0.2536, std 0.0435, min 0.1320, max 0.3540\n",
      "[INFO][mcmc] writing chain to file\n"
     ]
    }
   ],
   "source": [
    "!python3 RunMCMC.py"
   ]
  },
  {
   "cell_type": "markdown",
   "metadata": {},
   "source": [
    "## Step 4: Analyze posterior samples"
   ]
  },
  {
   "cell_type": "code",
   "execution_count": 6,
   "metadata": {},
   "outputs": [],
   "source": [
    "!python3 MakeMCMCSamplingPlot.py"
   ]
  },
  {
   "cell_type": "markdown",
   "metadata": {},
   "source": [
    "## Step 5: adding all sorts of plots"
   ]
  },
  {
   "cell_type": "code",
   "execution_count": 7,
   "metadata": {},
   "outputs": [],
   "source": [
    "!python3 MakePosteriorCorrelationPlot.py"
   ]
  },
  {
   "cell_type": "code",
   "execution_count": 8,
   "metadata": {},
   "outputs": [],
   "source": [
    "!python3 MakePosteriorObservablePlot.py"
   ]
  },
  {
   "cell_type": "code",
   "execution_count": 9,
   "metadata": {
    "scrolled": false
   },
   "outputs": [],
   "source": [
    "!python3 MakeDesignPredictedObservablePlot.py"
   ]
  },
  {
   "cell_type": "code",
   "execution_count": null,
   "metadata": {},
   "outputs": [],
   "source": [
    "!python3 WriteToText.py"
   ]
  },
  {
   "cell_type": "markdown",
   "metadata": {},
   "source": [
    "# Debug Area"
   ]
  },
  {
   "cell_type": "code",
   "execution_count": null,
   "metadata": {},
   "outputs": [],
   "source": [
    "import pickle\n",
    "AllData = {}\n",
    "with open('input/default.p', 'rb') as handle:\n",
    "    AllData = pickle.load(handle)"
   ]
  },
  {
   "cell_type": "code",
   "execution_count": null,
   "metadata": {},
   "outputs": [],
   "source": [
    "AllData"
   ]
  },
  {
   "cell_type": "code",
   "execution_count": null,
   "metadata": {},
   "outputs": [],
   "source": []
  }
 ],
 "metadata": {
  "kernelspec": {
   "display_name": "Python 3",
   "language": "python",
   "name": "python3"
  },
  "language_info": {
   "codemirror_mode": {
    "name": "ipython",
    "version": 3
   },
   "file_extension": ".py",
   "mimetype": "text/x-python",
   "name": "python",
   "nbconvert_exporter": "python",
   "pygments_lexer": "ipython3",
   "version": "3.6.14"
  }
 },
 "nbformat": 4,
 "nbformat_minor": 2
}
